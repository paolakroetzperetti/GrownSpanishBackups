{
  "nbformat": 4,
  "nbformat_minor": 0,
  "metadata": {
    "colab": {
      "provenance": [],
      "authorship_tag": "ABX9TyP7+rkmbF+EugZ8VFAz7YFJ",
      "include_colab_link": true
    },
    "kernelspec": {
      "name": "python3",
      "display_name": "Python 3"
    },
    "language_info": {
      "name": "python"
    }
  },
  "cells": [
    {
      "cell_type": "markdown",
      "metadata": {
        "id": "view-in-github",
        "colab_type": "text"
      },
      "source": [
        "<a href=\"https://colab.research.google.com/github/paolakroetzperetti/GrownSpanishBackups/blob/main/Projeto_jogos_fase_1.ipynb\" target=\"_parent\"><img src=\"https://colab.research.google.com/assets/colab-badge.svg\" alt=\"Open In Colab\"/></a>"
      ]
    },
    {
      "cell_type": "code",
      "execution_count": 2,
      "metadata": {
        "id": "1Uo6ZAcAmA5W"
      },
      "outputs": [],
      "source": [
        "\"\"\"\n",
        "O código consiste em duas classes principais, GameDataLoader e GameAnalyzer, que são usadas para carregar e analisar dados sobre jogos de videogame.\n",
        "Ele também inclui uma função principal chamada main que carrega os dados de um arquivo CSV, realiza análises sobre esses dados e imprime os resultados.\n",
        "\n",
        "Exemplo de Uso:\n",
        "Suponhamos que você tenha dois arquivos: \"steam_games.csv\" com os dados completos e \"amostras.csv\" com uma amostra dos dados.\n",
        "\n",
        "Carregando e Analisando Dados Completos:\n",
        "\n",
        "    main(\"/content/steam_games.csv\")\n",
        "\n",
        "Neste exemplo, o código carregará e analisará os dados completos do arquivo \"steam_games.csv\". Ele calculará o percentual de jogos gratuitos e pagos, identificará o(s) ano(s) com o maior número de jogos e encontrará o jogo mais antigo. Em seguida, imprimirá os resultados das análises.\n",
        "\n",
        "Carregando e Analisando Dados de Amostra:\n",
        "\n",
        "    main(\"/content/amostras.csv\")\n",
        "\n",
        "Neste exemplo, o código carregará e analisará a amostra dos dados do arquivo \"amostras.csv\". Ele realizará as mesmas análises que no exemplo anterior e imprimirá os resultados.\n",
        "\"\"\"\n",
        "\n",
        "class GameDataLoader:\n",
        "    def __init__(self, filename):\n",
        "        self.filename = filename\n",
        "\n",
        "    def load_data(self):\n",
        "        data = []\n",
        "        with open(self.filename, \"r\") as file:\n",
        "            for line in file:\n",
        "                # Tratar a coluna \"Release date\" removendo as vírgulas\n",
        "                line = self._remove_commas_in_release_date(line)\n",
        "                data.append(line.strip().split(\",\"))  # Split agora considera vírgulas normais\n",
        "        return data\n",
        "\n",
        "    def _remove_commas_in_release_date(self, line):\n",
        "        parts = line.split('\"')  # Divide a linha em partes separadas por aspas\n",
        "        for i, part in enumerate(parts):\n",
        "            if i % 2 == 1:  # As partes ímpares são aquelas entre as aspas\n",
        "                parts[i] = part.replace(',', '')  # Remove vírgulas nas partes ímpares\n",
        "        return '\"'.join(parts)  # Junta as partes de volta usando as aspas"
      ]
    },
    {
      "cell_type": "code",
      "source": [
        "from datetime import datetime\n",
        "\n",
        "class GameAnalyzer:\n",
        "    def __init__(self, game_data):\n",
        "        self.game_data = game_data\n",
        "\n",
        "    def calcular_percentuais(self):\n",
        "        total_jogos = len(self.game_data)\n",
        "        jogos_gratuitos = sum(1 for jogo in self.game_data if len(jogo) > 6 and jogo[6] != '0.0')\n",
        "        jogos_pagos = total_jogos - jogos_gratuitos\n",
        "        percentual_gratuitos = (jogos_gratuitos / total_jogos) * 100\n",
        "        percentual_pagos = (jogos_pagos / total_jogos) * 100\n",
        "        return percentual_gratuitos, percentual_pagos\n",
        "\n",
        "    def encontrar_anos_mais_jogos(self):\n",
        "        anos = {}\n",
        "        for jogo in self.game_data:\n",
        "            if len(jogo) > 2:\n",
        "                release_date = jogo[2].split(\", \")[-1]\n",
        "                if release_date in anos:\n",
        "                    anos[release_date] += 1\n",
        "                else:\n",
        "                    anos[release_date] = 1\n",
        "        if anos:\n",
        "            maior_numero_jogos = max(anos.values())\n",
        "            anos_mais_jogos = [ano for ano, num_jogos in anos.items() if num_jogos == maior_numero_jogos]\n",
        "        else:\n",
        "            anos_mais_jogos = []\n",
        "        return anos_mais_jogos\n",
        "\n",
        "    def encontrar_jogo_mais_antigo(self):\n",
        "        jogos_validos = [jogo for jogo in self.game_data if len(jogo) > 2]\n",
        "\n",
        "        if not jogos_validos:\n",
        "            raise ValueError(\"Nenhum jogo válido encontrado.\")\n",
        "\n",
        "        jogo_mais_antigo = min(jogos_validos, key=lambda jogo: jogo[2])\n",
        "        return jogo_mais_antigo"
      ],
      "metadata": {
        "id": "oZ4tGmHwmhNe"
      },
      "execution_count": 4,
      "outputs": []
    },
    {
      "cell_type": "code",
      "source": [
        "import html\n",
        "\n",
        "def main(filename):\n",
        "    try:\n",
        "        # Carregando os dados do arquivo usando o GameDataLoader\n",
        "        loader = GameDataLoader(filename)\n",
        "        game_data = loader.load_data()\n",
        "    except FileNotFoundError:\n",
        "        print(\"Arquivo de dados não encontrado.\")\n",
        "        exit(1)\n",
        "    except Exception as e:\n",
        "        print(\"Erro ao carregar os dados:\", e)\n",
        "        exit(1)\n",
        "\n",
        "    # Exibição das 2 primeiras linhas do arquivo para verificar se o mesmo está sendo lido corretamente.\n",
        "    print(\"Primeiras 2 linhas do arquivo:\")\n",
        "    try:\n",
        "        for item in game_data[:2]:\n",
        "            if item:  # Verificando se a linha não está vazia\n",
        "                print(item)\n",
        "    except Exception as e:\n",
        "        print(\"Erro ao exibir as linhas do arquivo:\", e)\n",
        "        exit(1)\n",
        "\n",
        "    # Criando uma instância da classe GameAnalyzer\n",
        "    try:\n",
        "        analyzer = GameAnalyzer(game_data)\n",
        "    except Exception as e:\n",
        "        print(\"Erro ao criar a instância do GameAnalyzer:\", e)\n",
        "        exit(1)\n",
        "\n",
        "    # Decodificar caracteres especiais nos resultados\n",
        "    def print_decoded_results(results):\n",
        "        for result in results:\n",
        "            decoded_result = [html.unescape(item) for item in result]\n",
        "            print(decoded_result)\n",
        "\n",
        "    # Pergunta 1: Qual o percentual de jogos gratuitos e pagos na plataforma?\n",
        "    percentual_pagos, percentual_gratuitos = analyzer.calcular_percentuais()\n",
        "    percentual_pagos = round(percentual_pagos, 2)\n",
        "    percentual_gratuitos = round(percentual_gratuitos, 2)\n",
        "\n",
        "    # Pergunta 2: Qual o ano com o maior número de novos jogos? Em caso de empate, retorne uma lista com os anos empatados.\n",
        "    anos_mais_jogos = analyzer.encontrar_anos_mais_jogos()\n",
        "\n",
        "    # Pergunta 3: Qual é o jogo mais antigo?\n",
        "    jogo_mais_antigo = analyzer.encontrar_jogo_mais_antigo()\n",
        "\n",
        "    # Impressão dos resultados das perguntas:\n",
        "    print(\"\\nPergunta 1:\")\n",
        "    print(\"Percentual de jogos gratuitos:\", f\"{percentual_gratuitos:.2f}%\")\n",
        "    print(\"Percentual de jogos pagos:\", f\"{percentual_pagos:.2f}%\")\n",
        "    print()\n",
        "\n",
        "    print(\"Pergunta 2:\")\n",
        "    if len(anos_mais_jogos) == 1:\n",
        "        print(\"Ano com o maior número de jogos:\", anos_mais_jogos[0])\n",
        "    else:\n",
        "        print(\"Ano(s) com o maior número de jogos:\", \", \".join(anos_mais_jogos))\n",
        "    print()\n",
        "\n",
        "    print(\"Pergunta 3:\")\n",
        "    if jogo_mais_antigo is not None:\n",
        "        print(\"Jogo mais antigo:\")\n",
        "        print(jogo_mais_antigo)\n",
        "    else:\n",
        "        print(\"Não foi possível encontrar o jogo mais antigo.\")\n",
        "\n",
        "# Executar para o arquivo completo\n",
        "main(\"/content/steam_games.csv\")"
      ],
      "metadata": {
        "colab": {
          "base_uri": "https://localhost:8080/",
          "height": 0
        },
        "id": "w-wzevaYr-Zi",
        "outputId": "d5975e37-f033-4fbf-ce16-9ba7b6c3cd20"
      },
      "execution_count": 23,
      "outputs": [
        {
          "output_type": "stream",
          "name": "stdout",
          "text": [
            "Primeiras 2 linhas do arquivo:\n",
            "['AppID', 'Name', 'Release date', 'Estimated owners', 'Peak CCU', 'Required age', 'Price', 'DLC count', 'About the game', 'Supported languages', 'Full audio languages', 'Reviews', 'Header image', 'Website', 'Support url', 'Support email', 'Windows', 'Mac', 'Linux', 'Metacritic score', 'Metacritic url', 'User score', 'Positive', 'Negative', 'Score rank', 'Achievements', 'Recommendations', 'Notes', 'Average playtime forever', 'Average playtime two weeks', 'Median playtime forever', 'Median playtime two weeks', 'Developers', 'Publishers', 'Categories', 'Genres', 'Tags', 'Screenshots', 'Movies']\n",
            "['20200', '\"Galactic Bowling\"', '\"Oct 21 2008\"', '\"0 - 20000\"', '0', '0', '19.99', '0', '\"Galactic Bowling is an exaggerated and stylized bowling game with an intergalactic twist. Players will engage in fast-paced single and multi-player competition while being submerged in a unique new universe filled with over-the-top humor wild characters unique levels and addictive game play. The title is aimed at players of all ages and skill sets. Through accessible and intuitive controls and game-play Galactic Bowling allows you to jump right into the action. A single-player campaign and online play allow you to work your way up the ranks of the Galactic Bowling League! Whether you have hours to play or only a few minutes Galactic Bowling is a fast paced and entertaining experience that will leave you wanting more! Full Single-player story campaign including 11 Characters and Environments. 2 Single-player play modes including Regular and Battle Modes. Head to Head Online Multiplayer play Modes. Super Powers Special Balls and Whammies. Unlockable Characters Environments and Minigames. Unlock all 30 Steam Achievements!\"', '\"[\\'English\\']\"', '\"[]\"', '\"\"', '\"https://cdn.akamai.steamstatic.com/steam/apps/20200/header.jpg?t=1640121033\"', '\"http://www.galacticbowling.net\"', '\"\"', '\"\"', 'True', 'False', 'False', '0', '\"\"', '0', '6', '11', '\"\"', '30', '0', '\"\"', '0', '0', '0', '0', '\"Perpetual FX Creative\"', '\"Perpetual FX Creative\"', '\"Single-playerMulti-playerSteam AchievementsPartial Controller Support\"', '\"CasualIndieSports\"', '\"IndieCasualSportsBowling\"', '\"https://cdn.akamai.steamstatic.com/steam/apps/20200/0000005994.1920x1080.jpg?t=1640121033https://cdn.akamai.steamstatic.com/steam/apps/20200/0000005993.1920x1080.jpg?t=1640121033https://cdn.akamai.steamstatic.com/steam/apps/20200/0000005992.1920x1080.jpg?t=1640121033https://cdn.akamai.steamstatic.com/steam/apps/20200/0000006011.1920x1080.jpg?t=1640121033https://cdn.akamai.steamstatic.com/steam/apps/20200/0000005685.1920x1080.jpg?t=1640121033https://cdn.akamai.steamstatic.com/steam/apps/20200/0000005686.1920x1080.jpg?t=1640121033https://cdn.akamai.steamstatic.com/steam/apps/20200/0000005995.1920x1080.jpg?t=1640121033https://cdn.akamai.steamstatic.com/steam/apps/20200/0000005688.1920x1080.jpg?t=1640121033https://cdn.akamai.steamstatic.com/steam/apps/20200/0000005689.1920x1080.jpg?t=1640121033https://cdn.akamai.steamstatic.com/steam/apps/20200/0000005690.1920x1080.jpg?t=1640121033\"', '\"http://cdn.akamai.steamstatic.com/steam/apps/256863704/movie_max.mp4?t=1638854607\"']\n",
            "\n",
            "Pergunta 1:\n",
            "Percentual de jogos gratuitos: 15.21%\n",
            "Percentual de jogos pagos: 84.79%\n",
            "\n",
            "Pergunta 2:\n",
            "Ano(s) com o maior número de jogos: \"Jul 31 2020\", \"Jul 14 2022\", \"Sep 24 2020\", \"Jun 17 2021\", \"May 12 2022\", \"Sep 3 2021\", \"Apr 21 2022\", \"Apr 16 2021\"\n",
            "\n",
            "Pergunta 3:\n",
            "Jogo mais antigo:\n",
            "['1268840', '\"Project Toon Tanks\"', '\"Apr 1 2020\"', '\"0 - 20000\"', '0', '0', '5.99', '0', '\"Project Toon Tanks Welcome to Project Toon Tanks! Epic battle arenas where two players (or one player and an AI if you are ... taking a break) fight to the death. Project Toon Tanks has a wide selection of customizable and historically inaccurate vehicles from the mighty KV-2 to the deadly Armata going head to head in ludicrously obnoxious battles. That\\'s right! Nothing is historically accurate here! Vehicles and Customization: Chose a Tank from the roster of awesome war machines and customize them by painting your tanks with one of the over 50 different camouflage patterns available. Abrams Ariete Armata BMP Bradley Maus Merkeva M60 Patton PL-01 Starship Hetzer Challenger Leopard 1 Leopard 2 Leclerc Type 59 E-100 T-90 T-95 IS-3 IS-4 T-29 KV-2 Strv 103B Power Ups: What make a battle intense? Unfair advantage my friend! There are several power ups scattered in destructible walls that will be revealed by shooting the walls. Capture these to get anything from a full repair to a close air support! Diorama mode Project Toon Tanks now has a Diorama mode!\"', '\"[\\'English\\']\"', '\"[]\"', '\"\"', '\"https://cdn.akamai.steamstatic.com/steam/apps/1268840/header.jpg?t=1631038574\"', '\"\"', '\"\"', '\"Behnam.Saeedi.M.Sc@gmail.com\"', 'True', 'False', 'False', '0', '\"\"', '0', '1', '0', '\"\"', '44', '0', '\"\"', '0', '0', '0', '0', '\"Behnam Saeedi\"', '\"Behnam Saeedi\"', '\"Single-playerMulti-playerPvPShared/Split Screen PvPShared/Split ScreenRemote Play Together\"', '\"ActionCasualIndieStrategyEarly Access\"', '\"ActionIndieCasualStrategyEarly AccessTanksTop-Down ShooterShooterPvPCompetitiveCartoonyCartoonTop-DownArena Shooter\"', '\"https://cdn.akamai.steamstatic.com/steam/apps/1268840/ss_446e469919d2afbe13dae25e8d7d8aa6c2fdaf92.1920x1080.jpg?t=1631038574https://cdn.akamai.steamstatic.com/steam/apps/1268840/ss_710f43bb130bd19ec1635b427e9d81579ee647c7.1920x1080.jpg?t=1631038574https://cdn.akamai.steamstatic.com/steam/apps/1268840/ss_38ea056dfc2122e37d73432838aaf988b7148a30.1920x1080.jpg?t=1631038574https://cdn.akamai.steamstatic.com/steam/apps/1268840/ss_87fc3a8993866d81ab57ffc072feb630136c7c38.1920x1080.jpg?t=1631038574https://cdn.akamai.steamstatic.com/steam/apps/1268840/ss_6eba4d7118113fd54bf435d92dca68b95b2d2552.1920x1080.jpg?t=1631038574https://cdn.akamai.steamstatic.com/steam/apps/1268840/ss_026ed4f04fb8c3c703d778d8bec8bd3c47b4f8da.1920x1080.jpg?t=1631038574https://cdn.akamai.steamstatic.com/steam/apps/1268840/ss_1425dc9df0ecac41f4ed43c12b545d7a3827b08d.1920x1080.jpg?t=1631038574https://cdn.akamai.steamstatic.com/steam/apps/1268840/ss_76d9537c7b76a2772c306286c138c47ddd7e7299.1920x1080.jpg?t=1631038574https://cdn.akamai.steamstatic.com/steam/apps/1268840/ss_46e7100b511f137f020825f3eca58d9b73d42f6a.1920x1080.jpg?t=1631038574https://cdn.akamai.steamstatic.com/steam/apps/1268840/ss_f747275708aaab366e16b7f3b0920eab9dc07246.1920x1080.jpg?t=1631038574https://cdn.akamai.steamstatic.com/steam/apps/1268840/ss_99c21b7cdeb11a80405900b426819fb8687212a8.1920x1080.jpg?t=1631038574https://cdn.akamai.steamstatic.com/steam/apps/1268840/ss_930b16f663dedab3e7410410ad2aed716b0c7456.1920x1080.jpg?t=1631038574https://cdn.akamai.steamstatic.com/steam/apps/1268840/ss_7ddd719ac1cbcde388ba9dfcda98401d901039aa.1920x1080.jpg?t=1631038574https://cdn.akamai.steamstatic.com/steam/apps/1268840/ss_c9c3d9b926d6861924dfb37b2d75d9f13a9bea76.1920x1080.jpg?t=1631038574https://cdn.akamai.steamstatic.com/steam/apps/1268840/ss_627dd3207d33d49552949d9595a3c94c67913930.1920x1080.jpg?t=1631038574https://cdn.akamai.steamstatic.com/steam/apps/1268840/ss_f4295856784e55f290c6eb8ff0635f91728ed628.1920x1080.jpg?t=1631038574https://cdn.akamai.steamstatic.com/steam/apps/1268840/ss_9033b15598ba5cc8a8586e17a6e8f9d8e7c46c30.1920x1080.jpg?t=1631038574https://cdn.akamai.steamstatic.com/steam/apps/1268840/ss_e2e8d0d922385c17239ddf4dc6d842f5748bdd4a.1920x1080.jpg?t=1631038574https://cdn.akamai.steamstatic.com/steam/apps/1268840/ss_9b72259bdfd8bf7d4cadceb88a2ea8690ea1693d.1920x1080.jpg?t=1631038574https://cdn.akamai.steamstatic.com/steam/apps/1268840/ss_694fcd583762341d235e661ecc7d45b40bd4e09a.1920x1080.jpg?t=1631038574\"', '\"http://cdn.akamai.steamstatic.com/steam/apps/256850544/movie_max.mp4?t=1631038564http://cdn.akamai.steamstatic.com/steam/apps/256777989/movie_max.mp4?t=1584558974http://cdn.akamai.steamstatic.com/steam/apps/256777992/movie_max.mp4?t=1584558965\"']\n"
          ]
        }
      ]
    },
    {
      "cell_type": "code",
      "source": [
        "main(\"/content/amostras.csv\")"
      ],
      "metadata": {
        "colab": {
          "base_uri": "https://localhost:8080/",
          "height": 0
        },
        "id": "cO5JFOMGsISL",
        "outputId": "f1c14072-8094-4654-dde9-5c9605f40a2d"
      },
      "execution_count": 24,
      "outputs": [
        {
          "output_type": "stream",
          "name": "stdout",
          "text": [
            "Primeiras 2 linhas do arquivo:\n",
            "['AppID', 'Name', 'Release date', 'Estimated owners', 'Peak CCU', 'Required age', 'Price', 'DLC count', 'About the game', 'Supported languages', 'Full audio languages', 'Reviews', 'Header image', 'Website', 'Support url', 'Support email', 'Windows', 'Mac', 'Linux', 'Metacritic score', 'Metacritic url', 'User score', 'Positive', 'Negative', 'Score rank', 'Achievements', 'Recommendations', 'Notes', 'Average playtime forever', 'Average playtime two weeks', 'Median playtime forever', 'Median playtime two weeks', 'Developers', 'Publishers', 'Categories', 'Genres', 'Tags', 'Screenshots', 'Movies']\n",
            "['589250', '\"PowersVR\"', '\"Oct 10 2020\"', '\"0 - 20000\"', '0', '0', '9.99', '0', '\"PowersVR lets you be the caped crusader from comic books. Featuring a cast of colorful heroes you\\'ll get to test out their unique superpowers in Metropolis. Compete in challenges unlock all superpowers fight enemies and discover hidden collectibles. With more heroes and challenges yet to come! Metropolis City is a giant VR sandbox filled with interesting locations and enemies to face. Follow the beams of light to discover new heroes with all new abilities some beams will lead you to a challenge. Have the right hero? A section of the map becomes an isolated activity in which you compete for a high score! Secret collectibles are scattered in every nook and cranny gathering them will unlock all sorts of artwork in the Gallery.\"', '\"[\\'English\\']\"', '\"[]\"', '\"\"', '\"https://cdn.akamai.steamstatic.com/steam/apps/589250/header.jpg?t=1602346000\"', '\"\"', '\"\"', '\"christianignatov@gmail.com\"', 'True', 'False', 'False', '0', '\"\"', '0', '37', '22', '\"\"', '4', '0', '\"\"', '0', '0', '0', '0', '\"PseudoGames\"', '\"PseudoGames\"', '\"Single-playerSteam Achievements\"', '\"ActionIndieSimulation\"', '\"ActionIndieSimulationVRSuperheroEarly AccessComic Book\"', '\"https://cdn.akamai.steamstatic.com/steam/apps/589250/ss_805ed40b58fbeff9951f9411b237ad93cb460950.1920x1080.jpg?t=1602346000https://cdn.akamai.steamstatic.com/steam/apps/589250/ss_3f59636beca8afb927264bd5c2ab5e9b5a520c0c.1920x1080.jpg?t=1602346000https://cdn.akamai.steamstatic.com/steam/apps/589250/ss_596d4fe3f9f1a17eb8e49c8e90c432537b0ddc5e.1920x1080.jpg?t=1602346000https://cdn.akamai.steamstatic.com/steam/apps/589250/ss_59cb39cc72b2578035dc1d5650d939511d907ddd.1920x1080.jpg?t=1602346000https://cdn.akamai.steamstatic.com/steam/apps/589250/ss_53e84d0c57420d4f30f50b51db705861794a68c0.1920x1080.jpg?t=1602346000\"', '\"http://cdn.akamai.steamstatic.com/steam/apps/256804196/movie_max.mp4?t=1602287202\"']\n",
            "\n",
            "Pergunta 1:\n",
            "Percentual de jogos gratuitos: 0.00%\n",
            "Percentual de jogos pagos: 100.00%\n",
            "\n",
            "Pergunta 2:\n",
            "Ano(s) com o maior número de jogos: Release date, \"Oct 10 2020\", \"Aug 10 2017\", \"Feb 16 2021\", \"Jun 19 2020\", \"Mar 6 2018\", \"May 7 2019\", \"Oct 18 2018\", \"Oct 15 2021\", \"Mar 26 2018\", \"Oct 5 2017\", \"Apr 25 2016\", \"Mar 9 2021\", \"Jan 19 2021\", \"Jun 9 2022\", \"Sep 3 2019\", \"Jan 6 2011\", \"Jun 15 2021\", \"Jun 11 2021\", \"Dec 14 2016\", \"Oct 29 2019\"\n",
            "\n",
            "Pergunta 3:\n",
            "Jogo mais antigo:\n",
            "['464230', '\"Colours of Magic: Aqua Teeter\"', '\"Apr 25 2016\"', '\"20000 - 50000\"', '1', '0', '0.99', '0', '\"As an apprentice magician and alchemist you learn from different alchemy masters. They teach you to mix elixirs create potions and control them on alchemist table. Prove everyone that you are a born alchemist! Key features: - 60 levels of varying difficulty in 5 scenarios; - realistic fluid animation and physics; - challenging puzzles; - fancy hand-drawn graphics P.S. This game was initially designed for devices with accelerometer but for PC we decided to add WASD and arrow controls that made the game even more difficult and entertaining!\"', '\"[\\'English\\' \\'Russian\\' \\'Portuguese\\' \\'Portuguese - Brazil\\' \\'Ukrainian\\']\"', '\"[]\"', '\"\"', '\"https://cdn.akamai.steamstatic.com/steam/apps/464230/header.jpg?t=1531925953\"', '\"https://www.facebook.com/coloursofmagicgame/\"', '\"http://runserver.net/support/fluids\"', '\"fluids@runserver.net\"', 'True', 'True', 'True', '0', '\"\"', '0', '69', '17', '\"\"', '17', '0', '\"\"', '340', '0', '340', '0', '\"RunServer\"', '\"RunServer\"', '\"Single-playerSteam AchievementsFull controller supportSteam Trading Cards\"', '\"CasualIndie\"', '\"CasualIndiePuzzleSingleplayerHand-drawnFamily FriendlyColorfulRelaxingCuteTop-DownCartoon\"', '\"https://cdn.akamai.steamstatic.com/steam/apps/464230/ss_ca91fe6e1cab0b976a7f27a794f225d7969d627d.1920x1080.jpg?t=1531925953https://cdn.akamai.steamstatic.com/steam/apps/464230/ss_e8b6e71c122aa95050183e5c66b5bba2f4b52265.1920x1080.jpg?t=1531925953https://cdn.akamai.steamstatic.com/steam/apps/464230/ss_ea01d5e2d4810fb13339707afc23c82ffd4db2d9.1920x1080.jpg?t=1531925953https://cdn.akamai.steamstatic.com/steam/apps/464230/ss_64eef39024b2099df50844d7e998dcea02eda9f4.1920x1080.jpg?t=1531925953https://cdn.akamai.steamstatic.com/steam/apps/464230/ss_a518f328dc2d6e2f01c7732aa2a61445b58c99c3.1920x1080.jpg?t=1531925953\"', '\"http://cdn.akamai.steamstatic.com/steam/apps/256663432/movie_max.mp4?t=1461586494http://cdn.akamai.steamstatic.com/steam/apps/256663148/movie_max.mp4?t=1461178832http://cdn.akamai.steamstatic.com/steam/apps/256663147/movie_max.mp4?t=1461178821\"']\n"
          ]
        }
      ]
    },
    {
      "cell_type": "code",
      "source": [],
      "metadata": {
        "id": "BJOhp8rd2fvg"
      },
      "execution_count": null,
      "outputs": []
    }
  ]
}